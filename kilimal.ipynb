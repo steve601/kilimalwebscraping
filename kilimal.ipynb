{
 "cells": [
  {
   "cell_type": "code",
   "execution_count": 1,
   "id": "08872507",
   "metadata": {},
   "outputs": [],
   "source": [
    "# importing the necessary libraries and packages\n",
    "from selenium import webdriver\n",
    "import time\n",
    "from selenium.webdriver.support.ui import WebDriverWait\n",
    "from selenium.webdriver.support import expected_conditions as EC\n",
    "from selenium.webdriver.chrome.service import Service\n",
    "from selenium.webdriver.common.by import By\n",
    "import pandas as pd"
   ]
  },
  {
   "cell_type": "code",
   "execution_count": 2,
   "id": "58d2d783",
   "metadata": {},
   "outputs": [],
   "source": [
    "service = Service(executable_path=\"chromedriver.exe\")\n",
    "# let's initialize the driver\n",
    "driver = webdriver.Chrome(service=service)"
   ]
  },
  {
   "cell_type": "code",
   "execution_count": 3,
   "id": "bd5f4313",
   "metadata": {},
   "outputs": [],
   "source": [
    "url = 'https://www.kilimall.co.ke/'\n",
    "driver.get(url)"
   ]
  },
  {
   "cell_type": "code",
   "execution_count": 5,
   "id": "a3804ab2",
   "metadata": {},
   "outputs": [],
   "source": [
    "phones = driver.find_element(By.XPATH,\"//input[@class='van-field__control']\")\n",
    "phones.click()\n",
    "\n",
    "phones.send_keys('phones and accessories')"
   ]
  },
  {
   "cell_type": "code",
   "execution_count": 6,
   "id": "c33dfda0",
   "metadata": {},
   "outputs": [],
   "source": [
    "btn = driver.find_element(By.XPATH,\"//div[@class='search-button']\")\n",
    "btn.click()"
   ]
  },
  {
   "cell_type": "code",
   "execution_count": 9,
   "id": "4cd91f77",
   "metadata": {},
   "outputs": [],
   "source": [
    "names = driver.find_elements(By.XPATH,\"//p[@class='product-title']\")"
   ]
  },
  {
   "cell_type": "code",
   "execution_count": 10,
   "id": "dacb8e15",
   "metadata": {},
   "outputs": [],
   "source": [
    "items = []\n",
    "for name in names:\n",
    "    items.append(name.text)"
   ]
  },
  {
   "cell_type": "code",
   "execution_count": 11,
   "id": "f748778f",
   "metadata": {},
   "outputs": [
    {
     "data": {
      "text/plain": [
       "['Charger Sets phones Accessories Charger data cable headphone card removal pin',\n",
       " 'New Arrival 8\" LED Ring Light with Tripod Stand Phone Holder Selfie YouTube Live Stream Tiktok Other Phones Accessories',\n",
       " 'New Digital High Speed C10-3.0 Storage Card Phone 4G 8G 32G 68G 128G Memory Card micro sd card TF Card Memory Cards MemoryCard MemoryCardsfor Phones & Accessories > Mobile Accessories >',\n",
       " 'Universal Phone Lanyard Adjustable Detachable Neck Cord Lanyard Strap for Mobile Phone Accessories Safety Tether Anti-lost Rope',\n",
       " 'phone case Accessories Orig IP14 15Promax Luxury Shockproof Armor Magnetic Case For iPhone 15 Pro Max 14 Plus 13 12 11 Magsafe Wireless Charging Clear Matte Skin Cover mobile phone case',\n",
       " 'Charger Sets phones Accessories Charger data cable headphone card removal pin random color',\n",
       " 'FitDisk Class 10 Micro SD EVO+ MicroSD TF card 32G 64G 128G memory cards 32GB 64GB 128GB memory card MemoryCards MemoryCard Phones & Accessories > Mobile Accessories',\n",
       " 'Mobile phone accessories The color of the back cover of oppo Reno2z mobile phone is random (or tell me in the color note)',\n",
       " 'Big wave silicone bracelet ins mobile phone bracelet hanging ring key chain universal accessories color practical bracelet pendant',\n",
       " 'Samsung Memory card Class 10 8G 16G 32GB 64G 128G Micro SD EVO+ MicroSD TF card memory cards Memorycards Memorycard Phones & Accessories > Mobile Accessories',\n",
       " 'Digital High Speed C10-3.0 Storage Card Phone Memory Card micro sd cardTF Card Memory Cards MemoryCards MemoryCard Phones & Accessories > Mobile Accessories',\n",
       " 'Charger Sets phones Accessories Charger data cable headphone card removal pin random color',\n",
       " '32G 64G 128G Memory cards Class 10 Micro SD EVO+ MicroSD TF card 32G memory card MemoryCards MemoryCard 32GB 64GB 128GB Phones & Accessories > Mobile Accessories',\n",
       " 'New 360 Degree Rotating ABS+Silicone Mobile Phone Holder Portable Foldable Telescopic Live Streaming Mobile Phone Tablet Holder Mobile Accessories',\n",
       " 'High Speed TF Card Micpo SD Card memory Card 256G 128G 64G 32G 16G For phones Camera monitor Memory Cards Mobile Accessories Fast delivery within 1-5 days',\n",
       " 'High speed Memory card Class 10 Micro SD MicroSD TF card 4G 8G 16G 32G 64G 128G 256G memory cards MemoryCards MemoryCard pendrive pen drive 8GB 16GB 32GB 64GB 128GB 256GB Phones Mobile Accessories',\n",
       " 'PCB Link Jumper Wire Copper Soldering Wire Maintenance Jump Line For Mobile Phone Accessories Computer PCB Welding Repair Tools',\n",
       " 'Samsung Memory card Class 10 Micro SD EVO+ MicroSD TF card 32G 64G 128G 256G memory cards MemoryCards MemoryCard Phones & Accessories > Mobile Accessories >',\n",
       " 'Universal Mobile Accessories Desktop Phone Holder Stand Adjustable Retractable Stable Anti-skid Live Broadcast Bracket Portable Desk Cell Phone Holder',\n",
       " 'Bike Phone Holder Universal Bike Phone Stand Rotatable Bicycle Phone Holder Cycling Telephone Support Bike Accessories',\n",
       " 'HC Memory cards Class 10 Micro SD EVO+ MicroSD TF card 32G 64G 128G memory card MemoryCards MemoryCard Memory Card 32GB 64GB 128GB Phones & Accessories > Mobile Accessories',\n",
       " 'New 360 Degree Rotating Aluminum Alloy Mobile Phone Holder Portable Foldable Telescopic Live Streaming Metal Mobile Phone Tablet Holder Mobile Accessories',\n",
       " 'Digital High Speed C10-3.0 Storage Card 1\\\\2\\\\4\\\\8\\\\16G 32G Phone Memory Card TF Card micro sd MemoryCard Memory Cards MemoryCards Phones & Accessories > Mobile Accessories',\n",
       " 'Phone Cooler With Game Finger Sleeves Gaming Accessories Controllers',\n",
       " 'Digital High Speed C10-3.0 16G 32G 64G 128G Storage Card Phone Memory Card micro sd cardTF Card Memory Cards MemoryCards MemoryCard Phones & Accessories > Mobile Accessories > 16GB 32GB 64GB 128GB',\n",
       " '10PCS Type-C Dust Plug USB Charging Port Protector Silicone Cover for Samsung Huawei Smart Phone Accessories',\n",
       " 'New Digital High Speed C10-3.0 Storage Card Phone 4G 8G 32G 68G 128G Memory Card micro sd card TF Card Memory Cards MemoryCard MemoryCardsfor Phones & Accessories > Mobile Accessories >',\n",
       " 'Mini Wireless Bluetooth Earphone Sports Bluetooth Earphones Phones & Accessories > Mobile Accessories > Earphones & Headphones wireless earphones Bluetooth ear Bluetooth earphone',\n",
       " 'High Speed Class 10 TF MicroSD Card 32G 64G 128G 256G Memory Card Red Micro sd Memory Cards MemoryCards MemoryCard Phones & Accessories > Mobile Accessories',\n",
       " 'High Speed Class 10 memory cards Micro SD TF card 32G 64G 128G memory card memorycard memorycards32GB 64GB 128GB Phones & Accessories > Mobile Accessories',\n",
       " 'New Digital High Speed C10-3.0 Storage Card Phone Memory Card micro sd card TF Card Memory Cards MemoryCard MemoryCardsfor Phones & Accessories > Mobile Accessories >',\n",
       " 'Samsung Memory card Class 10 Micro SD EVO+ MicroSD TF card 32G 64G 128G 256G memory cards MemoryCards MemoryCard Phones & Accessories > Mobile Accessories >',\n",
       " 'A Set Of Universal Mobile External Phone Lens, Mobile Accessories, 18X Optical Zoom Lens, Mobile Camera Single Lens, Suitable For Most Smartphones',\n",
       " \"8'' Ring Light Tripod Stand LED Lights Selfie Phone Holder Phones Accessories\",\n",
       " 'Strong Magnetic Mobile Phone Finger Ring Holder for MagSafe Accessories Magnet Foldable Cellphone Stand Support for iPhone 14 15',\n",
       " 'Phone accessory USB interface Apple Lightning 3m Charging line']"
      ]
     },
     "execution_count": 11,
     "metadata": {},
     "output_type": "execute_result"
    }
   ],
   "source": [
    "items"
   ]
  },
  {
   "cell_type": "code",
   "execution_count": 12,
   "id": "f70f7205",
   "metadata": {},
   "outputs": [],
   "source": [
    "prices = driver.find_elements(By.XPATH,\"//div[@class='product-price']\")"
   ]
  },
  {
   "cell_type": "code",
   "execution_count": 13,
   "id": "2f07ec6a",
   "metadata": {},
   "outputs": [],
   "source": [
    "item_price = []\n",
    "for price in prices:\n",
    "    item_price.append(price.text)"
   ]
  },
  {
   "cell_type": "code",
   "execution_count": 14,
   "id": "e7b927d2",
   "metadata": {},
   "outputs": [
    {
     "name": "stdout",
     "output_type": "stream",
     "text": [
      "['KSh 1,999', 'KSh 729', 'KSh 379', 'KSh 640', 'KSh 499']\n"
     ]
    }
   ],
   "source": [
    "print(item_price[:5])"
   ]
  },
  {
   "cell_type": "code",
   "execution_count": 15,
   "id": "c0d744d7",
   "metadata": {},
   "outputs": [],
   "source": [
    "rate_group = driver.find_elements(By.XPATH,\"//div[@class='van-rate']\")"
   ]
  },
  {
   "cell_type": "code",
   "execution_count": 16,
   "id": "c02ddb39",
   "metadata": {},
   "outputs": [],
   "source": [
    "ratings_by_customer = []\n",
    "for rate in rate_group:\n",
    "    # Find all div elements with class 'van-rate__item' within the current rate element\n",
    "    items = rate.find_elements(By.XPATH, \".//div[@class='van-rate__item']\")\n",
    "    \n",
    "    # Initialize a counter for checked items\n",
    "    checked_count = 0\n",
    "    \n",
    "    # Check each item within the current rate element\n",
    "    for item in items:\n",
    "        if item.get_attribute('aria-checked') == 'true':\n",
    "            checked_count += 1\n",
    "    ratings_by_customer.append(checked_count)"
   ]
  },
  {
   "cell_type": "code",
   "execution_count": 17,
   "id": "14dd24cc",
   "metadata": {},
   "outputs": [
    {
     "data": {
      "text/plain": [
       "[4, 4, 4, 5, 5]"
      ]
     },
     "execution_count": 17,
     "metadata": {},
     "output_type": "execute_result"
    }
   ],
   "source": [
    "ratings_by_customer[:5]"
   ]
  },
  {
   "cell_type": "markdown",
   "id": "226560e9",
   "metadata": {},
   "source": [
    "### Page 2"
   ]
  },
  {
   "cell_type": "code",
   "execution_count": 18,
   "id": "14f6b8a1",
   "metadata": {},
   "outputs": [],
   "source": [
    "next_btn = driver.find_element(By.CSS_SELECTOR,\"#__nuxt > div > div.result-page > div.result-wrapper > div.result-listings-wrapper > div.pagination-box > nav > ul > li.van-pagination__item.van-pagination__item--next.van-hairline--surround > button\")\n",
    "next_btn.click()"
   ]
  },
  {
   "cell_type": "code",
   "execution_count": 21,
   "id": "b8ba4cee",
   "metadata": {},
   "outputs": [],
   "source": [
    "names_2 = driver.find_elements(By.XPATH,\"//p[@class='product-title']\")\n",
    "prices_2 = driver.find_elements(By.XPATH,\"//div[@class='product-price']\")\n",
    "rate_group_2 = driver.find_elements(By.XPATH,\"//div[@class='van-rate']\")"
   ]
  },
  {
   "cell_type": "code",
   "execution_count": 22,
   "id": "8fd9e88c",
   "metadata": {},
   "outputs": [],
   "source": [
    "items2 = []\n",
    "for name in names_2:\n",
    "    items2.append(name.text)"
   ]
  },
  {
   "cell_type": "code",
   "execution_count": 23,
   "id": "3e4192f5",
   "metadata": {},
   "outputs": [],
   "source": [
    "item_price2 = []\n",
    "for price in prices_2:\n",
    "    item_price2.append(price.text)"
   ]
  },
  {
   "cell_type": "code",
   "execution_count": 24,
   "id": "60805577",
   "metadata": {},
   "outputs": [],
   "source": [
    "ratings_by_customer2 = []\n",
    "for rate in rate_group_2:\n",
    "    # Find all div elements with class 'van-rate__item' within the current rate element\n",
    "    items = rate.find_elements(By.XPATH, \".//div[@class='van-rate__item']\")\n",
    "    \n",
    "    # Initialize a counter for checked items\n",
    "    checked_count = 0\n",
    "    \n",
    "    # Check each item within the current rate element\n",
    "    for item in items:\n",
    "        if item.get_attribute('aria-checked') == 'true':\n",
    "            checked_count += 1\n",
    "    ratings_by_customer2.append(checked_count)"
   ]
  },
  {
   "cell_type": "markdown",
   "id": "3c5fd6f8",
   "metadata": {},
   "source": [
    "### page 3"
   ]
  },
  {
   "cell_type": "code",
   "execution_count": 25,
   "id": "e09a7386",
   "metadata": {},
   "outputs": [],
   "source": [
    "next_btn.click()"
   ]
  },
  {
   "cell_type": "code",
   "execution_count": 29,
   "id": "43c25cc7",
   "metadata": {},
   "outputs": [],
   "source": [
    "names_3 = driver.find_elements(By.XPATH,\"//p[@class='product-title']\")\n",
    "prices_3 = driver.find_elements(By.XPATH,\"//div[@class='product-price']\")\n",
    "rate_group_3 = driver.find_elements(By.XPATH,\"//div[@class='van-rate']\")"
   ]
  },
  {
   "cell_type": "code",
   "execution_count": 27,
   "id": "59abd679",
   "metadata": {},
   "outputs": [],
   "source": [
    "items3 = []\n",
    "for name in names_3:\n",
    "    items3.append(name.text)"
   ]
  },
  {
   "cell_type": "code",
   "execution_count": 30,
   "id": "0d775272",
   "metadata": {},
   "outputs": [],
   "source": [
    "item_price3 = []\n",
    "for price in prices_3:\n",
    "    item_price3.append(price.text)"
   ]
  },
  {
   "cell_type": "code",
   "execution_count": 32,
   "id": "7f24e9eb",
   "metadata": {},
   "outputs": [],
   "source": [
    "ratings_by_customer3 = []\n",
    "for rate in rate_group_3:\n",
    "    # Find all div elements with class 'van-rate__item' within the current rate element\n",
    "    items = rate.find_elements(By.XPATH, \".//div[@class='van-rate__item']\")\n",
    "    \n",
    "    # Initialize a counter for checked items\n",
    "    checked_count = 0\n",
    "    \n",
    "    # Check each item within the current rate element\n",
    "    for item in items:\n",
    "        if item.get_attribute('aria-checked') == 'true':\n",
    "            checked_count += 1\n",
    "    ratings_by_customer3.append(checked_count)"
   ]
  },
  {
   "cell_type": "markdown",
   "id": "3f3fe301",
   "metadata": {},
   "source": [
    "### page 4"
   ]
  },
  {
   "cell_type": "code",
   "execution_count": 33,
   "id": "0009a129",
   "metadata": {},
   "outputs": [],
   "source": [
    "next_btn.click()"
   ]
  },
  {
   "cell_type": "code",
   "execution_count": 38,
   "id": "84dff1ba",
   "metadata": {},
   "outputs": [],
   "source": [
    "names_4 = driver.find_elements(By.XPATH,\"//p[@class='product-title']\")\n",
    "prices_4 = driver.find_elements(By.XPATH,\"//div[@class='product-price']\")\n",
    "rate_group_4 = driver.find_elements(By.XPATH,\"//div[@class='van-rate']\")"
   ]
  },
  {
   "cell_type": "code",
   "execution_count": 35,
   "id": "0d6a18c0",
   "metadata": {},
   "outputs": [],
   "source": [
    "items4 = []\n",
    "for name in names_4:\n",
    "    items4.append(name.text)"
   ]
  },
  {
   "cell_type": "code",
   "execution_count": 39,
   "id": "efa86090",
   "metadata": {},
   "outputs": [],
   "source": [
    "item_price4 = []\n",
    "for price in prices_4:\n",
    "    item_price4.append(price.text)"
   ]
  },
  {
   "cell_type": "code",
   "execution_count": 40,
   "id": "46d364fb",
   "metadata": {},
   "outputs": [],
   "source": [
    "ratings_by_customer4 = []\n",
    "for rate in rate_group_4:\n",
    "    # Find all div elements with class 'van-rate__item' within the current rate element\n",
    "    items = rate.find_elements(By.XPATH, \".//div[@class='van-rate__item']\")\n",
    "    \n",
    "    # Initialize a counter for checked items\n",
    "    checked_count = 0\n",
    "    \n",
    "    # Check each item within the current rate element\n",
    "    for item in items:\n",
    "        if item.get_attribute('aria-checked') == 'true':\n",
    "            checked_count += 1\n",
    "    ratings_by_customer4.append(checked_count)"
   ]
  },
  {
   "cell_type": "markdown",
   "id": "dd8592ae",
   "metadata": {},
   "source": [
    "### Page 5"
   ]
  },
  {
   "cell_type": "code",
   "execution_count": 41,
   "id": "9fe00cc3",
   "metadata": {},
   "outputs": [],
   "source": [
    "next_btn.click()"
   ]
  },
  {
   "cell_type": "code",
   "execution_count": 45,
   "id": "d0b1590e",
   "metadata": {},
   "outputs": [],
   "source": [
    "names_5 = driver.find_elements(By.XPATH,\"//p[@class='product-title']\")\n",
    "prices_5 = driver.find_elements(By.XPATH,\"//div[@class='product-price']\")\n",
    "rate_group_5 = driver.find_elements(By.XPATH,\"//div[@class='van-rate']\")"
   ]
  },
  {
   "cell_type": "code",
   "execution_count": 43,
   "id": "52c62b9b",
   "metadata": {},
   "outputs": [],
   "source": [
    "items5 = []\n",
    "for name in names_5:\n",
    "    items5.append(name.text)"
   ]
  },
  {
   "cell_type": "code",
   "execution_count": 46,
   "id": "c17bb1fa",
   "metadata": {},
   "outputs": [],
   "source": [
    "item_price5 = []\n",
    "for price in prices_5:\n",
    "    item_price5.append(price.text)"
   ]
  },
  {
   "cell_type": "code",
   "execution_count": 47,
   "id": "23142ee4",
   "metadata": {},
   "outputs": [],
   "source": [
    "ratings_by_customer5 = []\n",
    "for rate in rate_group_5:\n",
    "    # Find all div elements with class 'van-rate__item' within the current rate element\n",
    "    items = rate.find_elements(By.XPATH, \".//div[@class='van-rate__item']\")\n",
    "    \n",
    "    # Initialize a counter for checked items\n",
    "    checked_count = 0\n",
    "    \n",
    "    # Check each item within the current rate element\n",
    "    for item in items:\n",
    "        if item.get_attribute('aria-checked') == 'true':\n",
    "            checked_count += 1\n",
    "    ratings_by_customer5.append(checked_count)"
   ]
  },
  {
   "cell_type": "code",
   "execution_count": 48,
   "id": "42b04a3b",
   "metadata": {},
   "outputs": [
    {
     "name": "stdout",
     "output_type": "stream",
     "text": [
      "36\n"
     ]
    }
   ],
   "source": [
    "print(len(ratings_by_customer))"
   ]
  },
  {
   "cell_type": "code",
   "execution_count": 49,
   "id": "afc3292c",
   "metadata": {},
   "outputs": [
    {
     "name": "stdout",
     "output_type": "stream",
     "text": [
      "36\n"
     ]
    }
   ],
   "source": [
    "print(len(ratings_by_customer2))"
   ]
  },
  {
   "cell_type": "code",
   "execution_count": 51,
   "id": "8149015f",
   "metadata": {},
   "outputs": [
    {
     "name": "stdout",
     "output_type": "stream",
     "text": [
      "149\n"
     ]
    }
   ],
   "source": [
    "Items = []\n",
    "for lst in [items, items2, items3, items4, items5]:\n",
    "    Items.extend(lst)\n",
    "print(len(Items))"
   ]
  },
  {
   "cell_type": "code",
   "execution_count": 52,
   "id": "a198f228",
   "metadata": {},
   "outputs": [
    {
     "name": "stdout",
     "output_type": "stream",
     "text": [
      "180\n"
     ]
    }
   ],
   "source": [
    "Items_price = []\n",
    "for lst in [item_price, item_price2, item_price3, item_price4, item_price5]:\n",
    "    Items_price.extend(lst)\n",
    "print(len(Items_price))"
   ]
  },
  {
   "cell_type": "code",
   "execution_count": 53,
   "id": "ebf8b326",
   "metadata": {},
   "outputs": [
    {
     "name": "stdout",
     "output_type": "stream",
     "text": [
      "180\n"
     ]
    }
   ],
   "source": [
    "Ratings = []\n",
    "for lst in [ratings_by_customer,ratings_by_customer2,ratings_by_customer3,ratings_by_customer4,ratings_by_customer5]:\n",
    "    Ratings.extend(lst)\n",
    "print(len(Ratings))"
   ]
  },
  {
   "cell_type": "code",
   "execution_count": 66,
   "id": "75db77af",
   "metadata": {},
   "outputs": [],
   "source": [
    "Items = Items[5:]\n"
   ]
  },
  {
   "cell_type": "code",
   "execution_count": 67,
   "id": "53f6d58d",
   "metadata": {},
   "outputs": [
    {
     "data": {
      "text/plain": [
       "['For LG Wing 5G LM-F100N Luxury Leather Phone Cover Shell Full Protection Coque for LG Wing Phone Accessories',\n",
       " 'Rechargeable Mobile Phone Refrigeration Bracket/Stand Cooler Rechargeable Cooling Fan Cell Phone Radiator For Playing Games Watching Videos With LED Light For IPhone & Android Other Accessories',\n",
       " 'Phone Case For Oppo R9 Oppo R10 Oppo R8 Phone Case Electroplated Maple Leaf Suitable For Realme10 Protective Case Silicone A76A58 New Phones Accessories',\n",
       " '37mm Black Round Camera Accessory CPL Universal Filter Belt Clip Portable Polarizer Professional Wide Angle Lens Cell Phone',\n",
       " 'New Memory card Class 10 8G 16G 32GB 64G 128G Micro SD EVO+ MicroSD TF card memory cards Memorycards Memorycard Phones & Accessories > Mobile Accessories',\n",
       " 'Inspirational quote girl you can do amazing things | Inaspirational & motivational stickers for Her | Waterproof vinyl decals for laptops, hydro flasks, water bottles Phone Cover Sticker Accessory',\n",
       " 'KGTEL K50 Phones & Accessories > Mobile Phones > Featured Phone',\n",
       " 'Bontel Honey 1.54\" Color Display Flip Phone Phones & Accessories > Mobile Phones > Featured Phones',\n",
       " \"Nokia G21 6.5″, 4GB RAM + 64GB ROM 6.5' Phones & Accessories > Mobile Phones > Smart Phones\",\n",
       " 'FitDisk 32G memory card mobile phone high speed storage card TF card traffic recorder Micro SD card Phones & Accessories > Mobile Accessories > Memory Cards',\n",
       " 'Digital High Speed C10-3.0 Storage Card Phone 128G 64G 32G 16G 8G 4G 2G 1G Memory Card micro sd cardTF Card Memory Cards Memory Cards Phones & Accessories > Mobile Accessories',\n",
       " 'Digital High Speed 32G 64G128G C10-3.0 Storage Card Phone Memory Card micro sd cardTF Card Memory Cards MemoryCards 32GB 64GB128GB Mobile Accessories',\n",
       " 'Samsung Memory card Class 10 8G 16G 32GB 64G 128G Micro SD EVO+ MicroSD TF card memory cards Memorycards Memorycard Phones & Accessories > Mobile Accessories',\n",
       " 'New Samsung Memory card Class 10 Micro SD EVO+ MicroSD TF card 32G memory cards MemoryCards MemoryCard Phones & Accessories > Mobile Accessories Faster read and write speeds',\n",
       " 'New Memory card Class 10 Micro SD EVO+ MicroSD TF card 32G 64G 128G memory cards MemoryCards MemoryCard Phones & Accessories > Mobile Accessories > 32GB 64GB 128GB',\n",
       " 'FitDisk high read and write speed Memory card Class 10 Micro SD MicroSD TF card 32G 64G 128G memory cards Memorycards Memorycard Phones & Accessories > Mobile Accessories',\n",
       " 'New high-speed 98M memory card Class 10 Micro SD TF card 16G 32G 64G 128G Memory Cards MemoryCards Memory Card MemoryCard Phones & Accessories > Mobile Accessories 32GB 64GB 128GB',\n",
       " 'Mini Wireless Bluetooth Earphone Sports Bluetooth Earphones Phones & Accessories > Mobile Accessories > Earphones & Headphones wireless earphones Bluetooth ear Bluetooth earphone',\n",
       " 'Memory card Class 10 Micro SD EVO+ MicroSD TF card 4G 8G 16G 32G 64G 128G memory cards MemoryCards MemoryCard 32GB 64GB 128GB Phones & Accessories > Mobile Accessories',\n",
       " 'High Speed Class 10 TF MicroSD Card 32GB Memory Card Red Micro sd Memory Cards MemoryCards pendrive pendrives Phones & Accessories > Mobile Accessories >',\n",
       " 'Generic Lazy Phone Holder for IPhone & Other Android Smart Phones 360 Degree Rotation (Color- Black) one size | Phones & Accessories | Mobile Accessories',\n",
       " 'High-speed class10 16/32/64GB phone memory card TF card digital storage card micro SD memory cards pendrives pendrive Phones & Accessories > Mobile Accessories',\n",
       " 'Samsung 25W PD SuperFast Charging USB TYPE C CHARGER IN Phones & Accessories Mobile Accessories Chargers & Power Adapters Charger Sets WITH USB CABLE C TO C',\n",
       " 'FitDisk high read and write speed Memory card Class 10 Micro SD MicroSD TF card 32G memory cards Memorycards Memorycard Phones & Accessories > Mobile Accessories',\n",
       " 'Phone Cover Cartoon Fighting Dog Airpodspro2 Protective Case Apple 1/2 Generation Bluetooth Earphone Case Creative 3rd Generation Silicone Case Earphone Case Phone Accessories Wireless Headphone Case',\n",
       " 'Phone Memory Card Digital High Speed Storage Card 32G TF Card black micro sd Memory Cards MemoryCards MemoryCard Phones & Accessories > Mobile Accessories',\n",
       " 'High Speed Class 10 TF MicroSD Card 32G Memory Card Red Micro sd Memory Cards MemoryCards MemoryCard Phones & Accessories > Mobile Accessories > pendrive pendrives',\n",
       " 'phone case For Samsung mobile cover, smartphone case, protective cover, cell phone case, phone accessories, durable case, stylish phone case, shockproof case, slim phone case',\n",
       " 'HC Memory cards Class 10 Micro SD EVO+ MicroSD TF card 32G 64G 128G memory card MemoryCards MemoryCard 32GB 64GB 128GB Phones & Accessories > Mobile Accessories',\n",
       " 'Guava G121 Feature Phone - 2500mAh Battery, 1.8-inch Display, Dual SIM Phones & Accessories > Mobile Phones > Featured Phones',\n",
       " 'iTel IT5611 Phones & Accessories > Mobile Phones > Featured Phones',\n",
       " 'Computer laptop extension bracket mobile phone accessory mount magnetic suction smart phone holder hands free stand',\n",
       " 'For Iphone Case 11 Accessories Soft Shell Mobile Phone 6 6S Plus Liquid Silicone Apple 7 8 X XR XS Max Straight Edge Thin 12 Pro',\n",
       " 'Phone Case Phone Cover for Samsung Cases& Covers Covers with Holders for Samsung A72 S21 A52 A32 S21Plus Phone Accessories',\n",
       " 'FitDisk 32G 64G 128G Class 10 Micro SD EVO+ MicroSD Memory Cards TF card memory card MemoryCards MemoryCard Phones & Accessories > Mobile Accessories 32GB 64GB 128GB',\n",
       " \"Bontel A600,,,1.77' Mobile Phone (Dual Sim) Flip Phone Phones & Accessories > Mobile Phones > Featured Phones\",\n",
       " 'For LG Wing 5G LM-F100N Luxury Leather Phone Cover Shell Full Protection Coque for LG Wing Phone Accessories',\n",
       " 'Rechargeable Mobile Phone Refrigeration Bracket/Stand Cooler Rechargeable Cooling Fan Cell Phone Radiator For Playing Games Watching Videos With LED Light For IPhone & Android Other Accessories',\n",
       " 'Phone Case For Oppo R9 Oppo R10 Oppo R8 Phone Case Electroplated Maple Leaf Suitable For Realme10 Protective Case Silicone A76A58 New Phones Accessories',\n",
       " '37mm Black Round Camera Accessory CPL Universal Filter Belt Clip Portable Polarizer Professional Wide Angle Lens Cell Phone',\n",
       " 'New Memory card Class 10 8G 16G 32GB 64G 128G Micro SD EVO+ MicroSD TF card memory cards Memorycards Memorycard Phones & Accessories > Mobile Accessories',\n",
       " 'Inspirational quote girl you can do amazing things | Inaspirational & motivational stickers for Her | Waterproof vinyl decals for laptops, hydro flasks, water bottles Phone Cover Sticker Accessory',\n",
       " 'KGTEL K50 Phones & Accessories > Mobile Phones > Featured Phone',\n",
       " 'Bontel Honey 1.54\" Color Display Flip Phone Phones & Accessories > Mobile Phones > Featured Phones',\n",
       " \"Nokia G21 6.5″, 4GB RAM + 64GB ROM 6.5' Phones & Accessories > Mobile Phones > Smart Phones\",\n",
       " 'FitDisk 32G memory card mobile phone high speed storage card TF card traffic recorder Micro SD card Phones & Accessories > Mobile Accessories > Memory Cards',\n",
       " 'Digital High Speed C10-3.0 Storage Card Phone 128G 64G 32G 16G 8G 4G 2G 1G Memory Card micro sd cardTF Card Memory Cards Memory Cards Phones & Accessories > Mobile Accessories',\n",
       " 'Digital High Speed 32G 64G128G C10-3.0 Storage Card Phone Memory Card micro sd cardTF Card Memory Cards MemoryCards 32GB 64GB128GB Mobile Accessories',\n",
       " 'Samsung Memory card Class 10 8G 16G 32GB 64G 128G Micro SD EVO+ MicroSD TF card memory cards Memorycards Memorycard Phones & Accessories > Mobile Accessories',\n",
       " 'New Samsung Memory card Class 10 Micro SD EVO+ MicroSD TF card 32G memory cards MemoryCards MemoryCard Phones & Accessories > Mobile Accessories Faster read and write speeds',\n",
       " 'New Memory card Class 10 Micro SD EVO+ MicroSD TF card 32G 64G 128G memory cards MemoryCards MemoryCard Phones & Accessories > Mobile Accessories > 32GB 64GB 128GB',\n",
       " 'FitDisk high read and write speed Memory card Class 10 Micro SD MicroSD TF card 32G 64G 128G memory cards Memorycards Memorycard Phones & Accessories > Mobile Accessories',\n",
       " 'New high-speed 98M memory card Class 10 Micro SD TF card 16G 32G 64G 128G Memory Cards MemoryCards Memory Card MemoryCard Phones & Accessories > Mobile Accessories 32GB 64GB 128GB',\n",
       " 'Mini Wireless Bluetooth Earphone Sports Bluetooth Earphones Phones & Accessories > Mobile Accessories > Earphones & Headphones wireless earphones Bluetooth ear Bluetooth earphone',\n",
       " 'Memory card Class 10 Micro SD EVO+ MicroSD TF card 4G 8G 16G 32G 64G 128G memory cards MemoryCards MemoryCard 32GB 64GB 128GB Phones & Accessories > Mobile Accessories',\n",
       " 'High Speed Class 10 TF MicroSD Card 32GB Memory Card Red Micro sd Memory Cards MemoryCards pendrive pendrives Phones & Accessories > Mobile Accessories >',\n",
       " 'Generic Lazy Phone Holder for IPhone & Other Android Smart Phones 360 Degree Rotation (Color- Black) one size | Phones & Accessories | Mobile Accessories',\n",
       " 'High-speed class10 16/32/64GB phone memory card TF card digital storage card micro SD memory cards pendrives pendrive Phones & Accessories > Mobile Accessories',\n",
       " 'Samsung 25W PD SuperFast Charging USB TYPE C CHARGER IN Phones & Accessories Mobile Accessories Chargers & Power Adapters Charger Sets WITH USB CABLE C TO C',\n",
       " 'FitDisk high read and write speed Memory card Class 10 Micro SD MicroSD TF card 32G memory cards Memorycards Memorycard Phones & Accessories > Mobile Accessories',\n",
       " 'Phone Cover Cartoon Fighting Dog Airpodspro2 Protective Case Apple 1/2 Generation Bluetooth Earphone Case Creative 3rd Generation Silicone Case Earphone Case Phone Accessories Wireless Headphone Case',\n",
       " 'Phone Memory Card Digital High Speed Storage Card 32G TF Card black micro sd Memory Cards MemoryCards MemoryCard Phones & Accessories > Mobile Accessories',\n",
       " 'High Speed Class 10 TF MicroSD Card 32G Memory Card Red Micro sd Memory Cards MemoryCards MemoryCard Phones & Accessories > Mobile Accessories > pendrive pendrives',\n",
       " 'phone case For Samsung mobile cover, smartphone case, protective cover, cell phone case, phone accessories, durable case, stylish phone case, shockproof case, slim phone case',\n",
       " 'HC Memory cards Class 10 Micro SD EVO+ MicroSD TF card 32G 64G 128G memory card MemoryCards MemoryCard 32GB 64GB 128GB Phones & Accessories > Mobile Accessories',\n",
       " 'Guava G121 Feature Phone - 2500mAh Battery, 1.8-inch Display, Dual SIM Phones & Accessories > Mobile Phones > Featured Phones',\n",
       " 'iTel IT5611 Phones & Accessories > Mobile Phones > Featured Phones',\n",
       " 'Computer laptop extension bracket mobile phone accessory mount magnetic suction smart phone holder hands free stand',\n",
       " 'For Iphone Case 11 Accessories Soft Shell Mobile Phone 6 6S Plus Liquid Silicone Apple 7 8 X XR XS Max Straight Edge Thin 12 Pro',\n",
       " 'Phone Case Phone Cover for Samsung Cases& Covers Covers with Holders for Samsung A72 S21 A52 A32 S21Plus Phone Accessories',\n",
       " 'FitDisk 32G 64G 128G Class 10 Micro SD EVO+ MicroSD Memory Cards TF card memory card MemoryCards MemoryCard Phones & Accessories > Mobile Accessories 32GB 64GB 128GB',\n",
       " \"Bontel A600,,,1.77' Mobile Phone (Dual Sim) Flip Phone Phones & Accessories > Mobile Phones > Featured Phones\",\n",
       " 'Waterproof Sport Armband Case Gymnasium Activities Accessories Running Phone Arm Package',\n",
       " 'HC Memory cards Class 10 Micro SD EVO+ MicroSD TF card 32G 64G 128G memory card MemoryCards MemoryCard 32GB 64GB 128GB Phones & Accessories > Mobile Accessories',\n",
       " 'High read write speed Memory card Class 10 Micro SD MicroSD TF card 16G 32G 64G 128G 256G memory cards Memorycards Memorycard Phones Accessories Mobile Accessories 16GB 32GB 64GB 128GB 256GB',\n",
       " 'Cell phone memory card Tf card High speed digital storage card MemoryCard 4G 8G16G 32G 64G 128G Memory Cards MemoryCards Phones & Accessories > Mobile Accessories',\n",
       " 'Itell 2163 Dual Sim Phones & Accessories > Mobile Phones > Featured Phones',\n",
       " 'VILLAON V2160 Phones & Accessories > Mobile Phones > Featured Phones',\n",
       " 'High speed Memory card Class 10 Micro SD MicroSD TF card 32G memory cards MemoryCards MemoryCard pendrive pendrives Phones & Accessories > Mobile Accessories >',\n",
       " 'Tecno T101; Dual Sim. Wireless Fm Phones & Accessories > Mobile Phones > Featured Phone',\n",
       " '5 in 1 Multi-Function Repair Open Tools Kit Screwdrivers For iPhone Samsung Galaxy DIY Mobile Phone Repair Accessories',\n",
       " 'Phones Accessories Samsung 21 Ultra Pen without Bluetooth with Full Cover and other Samsung S-pen',\n",
       " 'For Magsafe Magnetic Leather Card Clip For iPhone 14 Pro Max 13 12 Pro Magnetic Wallet Card Holder Bag Phone Case Accessories',\n",
       " 'Refurbished phone Honor 20i Smartphones 6.21 inch 4GB+128GB Dual Card 3400mAh2340 × 1080 Pixel Face Unlocking 99 New full set of Accessories',\n",
       " '5 in 1 Multifunction Usb 2.0 Type C/Usb /Micro Usb/Tf/SD Memory Card Reader OTG Card Reader Adapter Mobile Phone Accessories',\n",
       " 'New High speed read and write speed Memory Card 32G 64G 128G Class10 TF Card Micro SD card storage card Memory Cards MemoryCards MemoryCard Phones & Accessories > Mobile Accessories',\n",
       " 'High Speeds C10 Memory Cards 32GB memory card Flash Cards Micro SD Card TF Card memorycard memory cards memorycards Phones & Accessories > Mobile Accessories',\n",
       " 'New Digital High Speed C10-3.0 Storage Card Phone 4G 8G 32G 68G 128G Memory Card micro sd card TF Card Memory Cards MemoryCard MemoryCardsfor Phones Accessories Mobile Accessories 32GB 68GB 128GB',\n",
       " 'New high read write speed Memory card Class 10 Micro SD MicroSD TF card 16G 32G 64G 128G 256G memory cards Memorycards Memorycard Phones Accessories Mobile Accessories 16GB 32GB 64GB 128GB 256GB',\n",
       " '3 USB Port+PD20W TypeC Universal Phone Charger Travel Portable Smartphone Charging Adapter Head Cellphone Power Supply Accessory',\n",
       " '2021 High quality S21 ultra case leather silicone back covers for samsung galaxy s21 ultra s21 plus phone accessory',\n",
       " 'New Memory Cards 32GB 64GB 128GB EVO+ MicroSD Class 10 Micro SD C10 TF Memory Card Memory Cards MemoryCard MemoryCards 32G 64G 128G Phones & Accessories > Mobile Accessories',\n",
       " 'New high read write speed Memory card Class 10 Micro SD MicroSD TF card 16G 32G 64G 128G 256G memory cards Memorycards Memorycard Phones Accessories Mobile Accessories 16GB 32GB 64GB 128GB 256GB',\n",
       " 'Samsung Memory card Class 10 32GB 64G 128G Micro SD EVO+ MicroSD TF card memory cards Memorycards Memorycard Phones & Accessories > Mobile Accessories',\n",
       " 'Digital High Speed C6 Storage Cards 16G 32G 64G 128G Phone Memory Card micro sd TF Card Memory Cards MemoryCard MemoryCards Phones & Accessories > Mobile Accessories > 16GB 32GB 64GB 128GB',\n",
       " 'Samsung Memory card Class 10 8G 16G 32GB 64G 128G Micro SD EVO+ MicroSD TF card memory cards Memorycards Memorycard Phones & Accessories > Mobile Accessories',\n",
       " 'Ssung mobile phone C10 32G 64G 128G memory cards storage card TF card Micro SD card memory card memorycards memorycard Phones & Accessories > Mobile Accessories',\n",
       " '5A LED Micro USB Cable USB C Cable Fast Charging For Huawei Samsung Xiaomi mi 10 Android Mobile Phone Accessories Charger Cables',\n",
       " 'FitDisk 32G Class 10 Micro SD EVO+ MicroSD 32G 64G 128G Memory Cards TF card memory card memorycard MemoryCards memorycard Phones & Accessories > Mobile Accessories',\n",
       " 'New Digital High Speed C10 Storage Cards 32G 64G 128G Phone Memory Card micro sd TF Card Memory Cards MemoryCards MemoryCard 32GB 64GB 128GB Phones & Accessories > Mobile Accessories >',\n",
       " 'Samsung Memory card Class 10 Micro SD EVO+ MicroSD TF card 32G 64G 128G memory cards MemoryCards MemoryCard Phones & Accessories > Mobile Accessories Faster read and write speeds',\n",
       " 'Oraimo Duraline 2 Fast Charging Cable-Lightninge | iphone cable Phones & Accessories > Mobile Accessories > Cables & Adapters > USB Data Cables',\n",
       " 'Digital High Speed C10-3.0 16GB 32GB 64GB 128GB Storage Card Phone Memory Card micro sd card TF Card Memory Cards MemoryCard MemoryCards for Phones Accessories Mobile Accessories 2G 4G 8G 32G 64G 128G',\n",
       " 'New high-speed memory card Class 10 Micro SD TF card 32G 64G 128G Memory Cards MemoryCards Memory Card MemoryCard 32GB 64GB 128GB Phones & Accessories > Mobile Accessories',\n",
       " 'Original Official Magsafe Magnetic Wireless Charging Plating Case For iPhone 13 12 11 Pro Max Mini Back Phone Cover Accessories',\n",
       " 'New 8G 16G 32G 64G 128G 256G Memory cards Class 10 Micro SD EVO+ MicroSD TF card memory card MemoryCards MemoryCard Phones & Accessories > Mobile Accessories 8GB 16GB 32GB 64GB 128GB 256GB',\n",
       " 'Memory Card 32G 64G 128G Digital High Speed C10-3.0 Storage Card Phone micro sd TF Card Memory Cards MemoryCard MemoryCards SD card Phones & Accessories > Mobile Accessories >',\n",
       " 'Qi Fast Charger For iPhone SE 2020 8 8plus X XS Max XR 11 11pro 12 mini 12pro 12 Pro max Wireless Charging Pad Phone Accessory',\n",
       " 'Phone Holder Motorcycle Electric Bicycle Smartphone CNC Aluminum Alloy Bracket Five Claws Mechanical Bike Phone Holder Accessories',\n",
       " '8pcs Cable Protector Cover for Mobile Phone Lightning USB Charger Cables Cord Phone Accessories',\n",
       " 'Samsung Memory card Class 10 8G 16G 32GB 64G 128G Micro SD EVO+ MicroSD TF card memory cards Memorycards Memorycard Phones & Accessories > Mobile Accessories',\n",
       " 'New Digital High Speed C10-3.0 Storage Card Phone Memory Card micro sd card TF Card Memory Cards MemoryCard MemoryCardsfor Phones & Accessories > Mobile Accessories >',\n",
       " 'Digital High Speed C10-3.0 8G 16G 32GB 64G 128G Phone Memory Cards TF Card micro sd memory card Storage Card Phones & Accessories > Mobile Accessories',\n",
       " 'High-speed 32G 64G 128G memory card mobile phone storage TF card 8G 16GSD card Memory Cards MemoryCards MemoryCard Memory Card 32GB 64GB 128GB Phones & Accessories > Mobile Accessories',\n",
       " 'New Digital High Speed C10-3.0 Storage Card Phone 4G 8G 32G 68G 128G Memory Card micro sd card TF Card Memory Cards MemoryCard MemoryCardsfor Phones & Accessories > Mobile Accessories >',\n",
       " 'New High speed C10 32G 64G 128G Memory card Micro SD EVO+ MicroSD TF card 32G 64G 128G memory cards MemoryCards MemoryCard 32GB 64GB 128GB Phones & Accessories > Mobile Accessories',\n",
       " 'New Digital High Speed C10-3.0 Storage Card Phone 4G 8G 32G 68G 128G Memory Card micro sd card TF Card Memory Cards MemoryCard MemoryCardsfor Phones & Accessories > Mobile Accessories >',\n",
       " 'New Digital High Speed C10-3.0 Storage Card Phone Memory Card micro sd card TF Card Memory Cards MemoryCard MemoryCardsfor Phones & Accessories > Mobile Accessories >',\n",
       " 'Class 10 Micro SD EVO+ MicroSD TF card 8G 16G 32GB 64G 128G memory card memory cards memorycards memorycard Phones & Accessories > Mobile Accessories >',\n",
       " 'New Digital High Speed C10-3.0 Storage Card Phone Memory Card micro sd card TF Card Memory Cards MemoryCard MemoryCardsfor Phones & Accessories > Mobile Accessories >',\n",
       " '5 In 1 Multifunction Usb 3.0 Type C/Usb /Micro Usb/Tf/SD Memory Card Reader OTG High Speed Card Reader Adapter Mobile Phone Accessories',\n",
       " 'Flexible Octopus Leg Phone Holder Smartphone Accessories Stand Support For Mobile Tripod For Phone',\n",
       " 'High Speed Class 10 memory cards Micro SD TF card 32G 64G 128G memory card memorycard memorycards 32GB 64GB 128GB Phones & Accessories > Mobile Accessories',\n",
       " 'Samsung Memory card Class 10 8G 16G 32GB 64G 128G Micro SD EVO+ MicroSD TF card memory cards Memorycards Memorycard Phones & Accessories > Mobile Accessories',\n",
       " 'Universal Mobile Phone Radiator USB Game Cooler System Cooling Fan F5 Air-cooled Physical Cooler Mobile Phone Accessories',\n",
       " '5PCS Transparent Finger Ring Holder Diamond Ring Phone Stand Holder for Cellphone Finger Grip Rotatable Phone Support Mount Accessory',\n",
       " 'Phone Ring Holder Finger Kickstand 360° Rotation Grip Laptop Stand Foldable Telephone Accessories',\n",
       " 'New Memory card Class 10 Micro SD EVO+ MicroSD TF card 32G 64G 128G memory cards MemoryCards MemoryCard Phones & Accessories > Mobile Accessories 32GB 64GB 128GB',\n",
       " 'ok thumb mobile phone stand creative mobile phone accessories i desktop lazy stand',\n",
       " 'Car Phone Holder Leopard Design Cellphone GPS Stand 360 Degree Mount Adjustable Clip Holder Accessories Support',\n",
       " 'Mobile Phone Screen Amplifier F13 12 inch Projector 6D Magnifying Glass Stand for Outdoor Mobile Phone Accessories',\n",
       " 'Phone Shaker Steps Counter Pedometer Wiggler Cellphone Holder Desk Shake Motions Walking Swing Smartphone Accessory',\n",
       " 'Photography LED Selfie Ring Light Dimmable Camera Phone Accessories Ring Lamp 8inch With Table Tripods For Makeup Video Live Phone Charms Studio',\n",
       " 'Extremely Thin Luxury Mobile Phone Socket Holder Universal Telephone Car Bracket Stand Accessories',\n",
       " '66W 5A Fast Charging Type C Cable 3A Micro USB Spring Car USB Cable for Samsung Xiaomi Redmi POCO Huawei Honor Phone Accessories',\n",
       " 'Bike Phone Holder CNC Motorcycle Handlebar Mobilephone Support Aluminum Alloy 360 Rotation MTB Road Bicycle Mount Accessories',\n",
       " 'Oraimo Durable Smartphone Accessories Fast Charging Charger + BONUS High Speed Phone Memory Card 64GB',\n",
       " 'Equipped With Lens Film, The Opporeno7 Phone Case Is Suitable For The New Reno7pro Reno9 Niche Reno8 Soft Case Phone Accessories',\n",
       " '360 Degree Rotate Car Phone Holder Dashboard Sticking Mount Simple Mobile Phone GPS Bracket Phone Support Car Accessories',\n",
       " 'Mobile phone accessories 7-pack Including charger, Apple/Android/Type-c data cable, mobile phone case, card pin, earphone, ring buckle, mobile phone case',\n",
       " 'Lune Goose 66W 3 In 1 Super Charging Cable Fast Charger Accessories USB Type-C Data Cable Fashion Colorful Cable Micro USB Type-C and Lighting Cable For Phones',\n",
       " 'New Digital High Speed C10-3.0 Storage Card Phone Memory Card micro sd card TF Card Memory Cards MemoryCard MemoryCardsfor Phones & Accessories > Mobile Accessories >',\n",
       " 'FitDisk high read and write speed Memory card Class 10 Micro SD MicroSD TF card 32G memory cards Memorycards Memorycard Phones & Accessories > Mobile Accessories',\n",
       " 'Cell phone memory card Tf card High speed digital storage card MemoryCard 4G 8G16G 32G 64G 128G Memory Cards MemoryCards Phones & Accessories > Mobile Accessories']"
      ]
     },
     "execution_count": 67,
     "metadata": {},
     "output_type": "execute_result"
    }
   ],
   "source": [
    "Items"
   ]
  },
  {
   "cell_type": "code",
   "execution_count": 68,
   "id": "2be0bd03",
   "metadata": {},
   "outputs": [],
   "source": [
    "data = {\n",
    "    'Item': Items,\n",
    "    'Price': Items_price,\n",
    "    'Rating': Ratings,\n",
    "}"
   ]
  },
  {
   "cell_type": "code",
   "execution_count": 69,
   "id": "d69ecd0d",
   "metadata": {},
   "outputs": [],
   "source": [
    "df = pd.DataFrame(dict([(k, pd.Series(v)) for k, v in data.items()]))"
   ]
  },
  {
   "cell_type": "code",
   "execution_count": 70,
   "id": "e02869c2",
   "metadata": {},
   "outputs": [
    {
     "data": {
      "text/html": [
       "<div>\n",
       "<style scoped>\n",
       "    .dataframe tbody tr th:only-of-type {\n",
       "        vertical-align: middle;\n",
       "    }\n",
       "\n",
       "    .dataframe tbody tr th {\n",
       "        vertical-align: top;\n",
       "    }\n",
       "\n",
       "    .dataframe thead th {\n",
       "        text-align: right;\n",
       "    }\n",
       "</style>\n",
       "<table border=\"1\" class=\"dataframe\">\n",
       "  <thead>\n",
       "    <tr style=\"text-align: right;\">\n",
       "      <th></th>\n",
       "      <th>Item</th>\n",
       "      <th>Price</th>\n",
       "      <th>Rating</th>\n",
       "    </tr>\n",
       "  </thead>\n",
       "  <tbody>\n",
       "    <tr>\n",
       "      <th>0</th>\n",
       "      <td>For LG Wing 5G LM-F100N Luxury Leather Phone C...</td>\n",
       "      <td>KSh 1,999</td>\n",
       "      <td>4</td>\n",
       "    </tr>\n",
       "    <tr>\n",
       "      <th>1</th>\n",
       "      <td>Rechargeable Mobile Phone Refrigeration Bracke...</td>\n",
       "      <td>KSh 729</td>\n",
       "      <td>4</td>\n",
       "    </tr>\n",
       "    <tr>\n",
       "      <th>2</th>\n",
       "      <td>Phone Case For Oppo R9 Oppo R10 Oppo R8 Phone ...</td>\n",
       "      <td>KSh 379</td>\n",
       "      <td>4</td>\n",
       "    </tr>\n",
       "    <tr>\n",
       "      <th>3</th>\n",
       "      <td>37mm Black Round Camera Accessory CPL Universa...</td>\n",
       "      <td>KSh 640</td>\n",
       "      <td>5</td>\n",
       "    </tr>\n",
       "    <tr>\n",
       "      <th>4</th>\n",
       "      <td>New Memory card Class 10 8G 16G 32GB 64G 128G ...</td>\n",
       "      <td>KSh 499</td>\n",
       "      <td>5</td>\n",
       "    </tr>\n",
       "  </tbody>\n",
       "</table>\n",
       "</div>"
      ],
      "text/plain": [
       "                                                Item      Price  Rating\n",
       "0  For LG Wing 5G LM-F100N Luxury Leather Phone C...  KSh 1,999       4\n",
       "1  Rechargeable Mobile Phone Refrigeration Bracke...    KSh 729       4\n",
       "2  Phone Case For Oppo R9 Oppo R10 Oppo R8 Phone ...    KSh 379       4\n",
       "3  37mm Black Round Camera Accessory CPL Universa...    KSh 640       5\n",
       "4  New Memory card Class 10 8G 16G 32GB 64G 128G ...    KSh 499       5"
      ]
     },
     "execution_count": 70,
     "metadata": {},
     "output_type": "execute_result"
    }
   ],
   "source": [
    "df.head()"
   ]
  },
  {
   "cell_type": "code",
   "execution_count": 71,
   "id": "8ab8aac9",
   "metadata": {},
   "outputs": [],
   "source": [
    "df.to_csv('kilimal.csv')"
   ]
  },
  {
   "cell_type": "code",
   "execution_count": null,
   "id": "151791df",
   "metadata": {},
   "outputs": [],
   "source": [
    "S"
   ]
  }
 ],
 "metadata": {
  "kernelspec": {
   "display_name": "Python 3 (ipykernel)",
   "language": "python",
   "name": "python3"
  },
  "language_info": {
   "codemirror_mode": {
    "name": "ipython",
    "version": 3
   },
   "file_extension": ".py",
   "mimetype": "text/x-python",
   "name": "python",
   "nbconvert_exporter": "python",
   "pygments_lexer": "ipython3",
   "version": "3.10.9"
  }
 },
 "nbformat": 4,
 "nbformat_minor": 5
}
